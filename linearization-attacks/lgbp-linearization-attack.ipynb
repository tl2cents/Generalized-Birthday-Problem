{
 "cells": [
  {
   "cell_type": "code",
   "execution_count": 1,
   "id": "e46ea252",
   "metadata": {},
   "outputs": [],
   "source": [
    "from hashlib import sha256,blake2b\n",
    "import os\n",
    "from Crypto.Util.number import long_to_bytes,bytes_to_long\n",
    "\n",
    "hash_bit_size = 288\n",
    "hash_byte_size = 36\n",
    "\n",
    "n = 288\n",
    "k = 8\n",
    "sample_num = 2**k\n",
    "N = 2**(n//(k+1))\n",
    "\n",
    "def xor(a,b):\n",
    "    return bytes([i^^j for i,j in zip(a,b)])\n",
    "\n",
    "def block_encrypt(block, times = 256):\n",
    "    for i in range(times):\n",
    "        sha256(block)\n",
    "        \n",
    "def bytes2bitvector(data, padlen = 256):\n",
    "    bitstr = bin(int.from_bytes(data, \"big\"))[2:].zfill(padlen)\n",
    "    return vector(GF(2), map(int,bitstr))\n",
    "\n",
    "blake2b_hash = lambda data, hashlen = 36 : blake2b(data,digest_size = hashlen).digest()"
   ]
  },
  {
   "cell_type": "markdown",
   "id": "8b494fa3",
   "metadata": {},
   "source": [
    "# Linearization Attack for LGBP(n, k) with Random $k \\ge n/2$ "
   ]
  },
  {
   "cell_type": "code",
   "execution_count": 2,
   "id": "5916b1b2",
   "metadata": {},
   "outputs": [
    {
     "name": "stdout",
     "output_type": "stream",
     "text": [
      "[+] M_kernel.dimensions() = (144, 432)\n",
      "[+] best_norm = 149\n",
      "[+] best_norm = 142\n",
      "[+] best_norm = 133\n",
      "[+] best_norm = 126\n",
      "[+] best_norm = 126\n"
     ]
    }
   ],
   "source": [
    "sample_num = int(hash_bit_size * 1.5)\n",
    "msgs = [ os.urandom(32) for i in range(sample_num)]\n",
    "cts = [ blake2b_hash(msg) for msg in msgs]\n",
    "# cts = [ sha256(msg).digest() for msg in msgs]\n",
    "vecs = [ bytes2bitvector(ct, padlen = hash_bit_size) for ct in cts]\n",
    "M = matrix(GF(2), vecs)\n",
    "M = M.T\n",
    "M_kernel = M.right_kernel_matrix()\n",
    "\n",
    "print(f\"[+] {M_kernel.dimensions() = }\")\n",
    "best_norm = 999\n",
    "for row in matrix(ZZ,M_kernel):\n",
    "    if best_norm > row.norm(1):\n",
    "        best_norm = row.norm(1)\n",
    "        print(f\"[+] {best_norm = }\")\n",
    "    idxs = row[:]\n",
    "    msg_res = []\n",
    "    hash_res = b\"\\x00\"*hash_byte_size\n",
    "    for i, idx in enumerate(idxs):\n",
    "        if idx == 1:\n",
    "            msg_res.append(msgs[i])\n",
    "            hash_res = xor(cts[i], hash_res)\n",
    "    assert bytes_to_long(hash_res) == 0, \"bad row\"\n",
    "print(f\"[+] {best_norm = }\")"
   ]
  },
  {
   "cell_type": "code",
   "execution_count": 3,
   "id": "2a36c50f",
   "metadata": {},
   "outputs": [
    {
     "name": "stdout",
     "output_type": "stream",
     "text": [
      "Starting Reduction with (576, 432)\n",
      "Lattice Reduction Done\n",
      "norm = 143\n",
      "norm = 130\n",
      "norm = 128\n",
      "norm = 121\n",
      "best_norm = 121,  best_res = (1, 0, -1, -1, -1, 1, 0, -1, 0, 0, 0, 1, 1, -1, -1, 0, 1, 0, 0, 1, 1, 1, 0, 1, 1, 0, 0, 1, 0, 0, 0, 1, 0, -1, 1, -1, 1, 0, 0, -1, 1, -1, 0, -1, 0, 0, 0, 0, 1, 0, 0, -1, 0, 1, 0, 0, -1, 0, 0, 1, 0, 0, 0, 1, 0, 1, 0, 1, -1, 0, 1, -1, 0, 0, 0, 0, 0, 1, 0, 1, 0, 0, -1, -1, 0, 0, 1, 0, 0, 0, 0, 0, 1, 0, 0, 0, 0, 0, 0, 0, 0, -1, 0, 0, 0, 1, 0, 0, 0, 1, 1, 0, 0, -1, 0, 1, 0, -1, -1, 0, 1, 1, 0, 1, -1, 0, 0, 1, 0, 1, 0, 0, 0, 1, 0, 1, 0, 1, 1, 0, -1, -1, 0, 1, 1, 1, 0, 0, 0, 1, 1, 0, 1, 0, -1, 0, 1, 0, -1, 0, 1, 0, -1, -1, 0, 1, 1, 0, 0, -1, 1, 0, 1, 0, 0, 1, 0, 0, -1, 1, -1, 1, 0, 0, 0, 0, 0, 0, -1, 0, 0, 0, 1, 0, 0, -1, -1, 0, -1, 0, -1, 0, 1, 0, 0, 1, 0, 0, 0, 0, 0, 0, -1, -1, 0, 0, 0, 1, 0, 0, 0, 1, 0, 0, 0, 0, -1, 0, 1, 1, -1, -1, -1, 1, 0, 1, 0, 0, 0, 1, 1, 0, 0, 1, 1, 0, 0, 0, 0, 0, 0, 0, 0, 0, 1, -1, 0, -1, 0, 0, -1, 0, 0, 0, 0, 0, 1, 0, 1, 0, -1, 0, 0, 0, 0, 0, 0, 0, 0, 0, 0, 0, 0, 0, 0, 0, -1, 0, 0, 0, 0, 0, 0, 0, 0, 0, 1, 0, 0, 0, 0, 0, 0, 0, 0, -1, 0, 0, 0, 0, 0, 0, 0, 0, 0, 0, 0, 0, 0, 0, 0, 0, 0, 0, 0, 0, 0, 0, 0, 0, 0, 0, 0, 0, 0, 0, 0, 0, 0, 0, 0, 0, 0, 0, 0, 0, 0, 0, 0, 0, 0, 0, 0, 0, 0, 0, 0, 0, 0, 0, 0, 0, 0, 0, 0, 0, 0, 0, 0, 0, 0, 0, 0, 0, 0, 0, 0, 0, 0, 1, 0, 0, 0, 0, 0, 0, 0, 0, 0, 0, 0, 0, 0, 0, -1, 0, 0, 0, 0, 0, 0, 0, 0, 0, 0, 0, 0, 0, 0, 0, 0, 0, 0, 0, 0, 0, 0, 0, 0, 0, 0, 0, 0, 0, 0, 0, 0, 0, 0, 0, 0, 0)\n",
      "121\n",
      "b'\\x00\\x00\\x00\\x00\\x00\\x00\\x00\\x00\\x00\\x00\\x00\\x00\\x00\\x00\\x00\\x00\\x00\\x00\\x00\\x00\\x00\\x00\\x00\\x00\\x00\\x00\\x00\\x00\\x00\\x00\\x00\\x00\\x00\\x00\\x00\\x00'\n"
     ]
    }
   ],
   "source": [
    "# try native LLL to find shorter solutions but it does not work well on F2\n",
    "# This is actually a LWC problem in https://decodingchallenge.org/\n",
    "# For shorter solutions, try BJMM-ISD alg. or lattice alg. such as SBP(BKZ) \n",
    "L = matrix(ZZ, M_kernel)\n",
    "IN = identity_matrix(ZZ, sample_num)*2\n",
    "Mod_La = block_matrix(ZZ, [L, IN], nrows = 2)\n",
    "print(f\"Starting Reduction with {Mod_La.dimensions()}\")\n",
    "La = Mod_La.BKZ(block_size=40)\n",
    "print(\"Lattice Reduction Done\")\n",
    "\n",
    "best_norm = 999\n",
    "best_res = None\n",
    "for row in La:\n",
    "    norm = row.norm(1)\n",
    "    if norm !=0 and (2 not in row) and (-2 not in row):\n",
    "        if norm < best_norm:\n",
    "            print(f\"{norm = }\")\n",
    "            best_norm = norm\n",
    "            best_res = row\n",
    "print(f\"{best_norm = }, { best_res = }\")\n",
    "\n",
    "idxs = (best_res)\n",
    "msg_res = []\n",
    "hash_res = b\"\\x00\"*hash_byte_size\n",
    "for i, idx in enumerate(idxs):\n",
    "    if idx != 0:\n",
    "        msg_res.append(msgs[i])\n",
    "        hash_res = xor(cts[i], hash_res)\n",
    "print(len(msg_res))\n",
    "print(hash_res)  "
   ]
  },
  {
   "cell_type": "markdown",
   "id": "c92f30d6",
   "metadata": {},
   "source": [
    "# Linearization Attack for LGBP(n, k) with Fixed $k \\ge n/2$ "
   ]
  },
  {
   "cell_type": "code",
   "execution_count": 4,
   "id": "f3e453cf",
   "metadata": {},
   "outputs": [
    {
     "name": "stdout",
     "output_type": "stream",
     "text": [
      "[+] log fixed  k = 150,  n = 288, sample_num = 1440\n",
      "[+] find 47 valid solutions.\n",
      "[+] Validation...\n",
      "[+] find 47 solutions for LGBP(288, 150)\n"
     ]
    }
   ],
   "source": [
    "from Crypto.Util.number import long_to_bytes,bytes_to_long\n",
    "\n",
    "def linearization_attack_with_fixed_k(n = 288, k = 2**8, sample_num = int(288*1.5)):\n",
    "    assert n % 8 == 0 , \"bad `n` parameter\"\n",
    "    print(f\"[+] log fixed { k = }, { n = }, {sample_num = }\")\n",
    "    target_norm1 = (n//2) + 1\n",
    "    hashbyte = n//8\n",
    "    assert k > target_norm1, \"bad `k` parameter\"\n",
    "    \n",
    "    fixed_prefix = [os.urandom(32) for i in range(k - target_norm1)]\n",
    "    prefix_hashs = [blake2b_hash(msg, hashbyte) for msg in fixed_prefix]\n",
    "    fixed_cons = b\"\\x00\"*(hashbyte)\n",
    "    for h in prefix_hashs:\n",
    "        fixed_cons = xor(fixed_cons,h)\n",
    "    cons_vec = bytes2bitvector(fixed_cons)\n",
    "    \n",
    "    msgs = [ os.urandom(32) for i in range(sample_num)]\n",
    "    cts = [blake2b_hash(msg, hashbyte) for msg in msgs]\n",
    "    vecs = [ bytes2bitvector(xor(ct,fixed_cons), padlen = hash_bit_size) for ct in cts]\n",
    "    M = matrix(GF(2), vecs)\n",
    "    M = M.T\n",
    "    M_kernel = M.right_kernel_matrix()\n",
    "    L = matrix(ZZ,M_kernel)\n",
    "    results = []\n",
    "    for row in L:\n",
    "        if row.norm(1) == target_norm1:\n",
    "            results.append(row)\n",
    "    print(f\"[+] find { len(results) } valid solutions.\")\n",
    "    print(\"[+] Validation...\")\n",
    "    final_orignal_result = []\n",
    "    for idxs in results:\n",
    "        msg_res = fixed_prefix[:]\n",
    "        hash_res = fixed_cons[:]\n",
    "        for i, idx in enumerate(idxs):\n",
    "            if idx != 0:\n",
    "                msg_res.append(msgs[i])\n",
    "                hash_res = xor(cts[i], hash_res)\n",
    "        final_orignal_result.append(msg_res)\n",
    "        assert bytes_to_long(hash_res) == 0, \"error\"\n",
    "    for msgs in final_orignal_result:\n",
    "        hash_res = b\"\\x00\"*hashbyte\n",
    "        for msg in msgs:\n",
    "            hash_res = xor(hash_res, blake2b_hash(msg, hashbyte))\n",
    "        assert bytes_to_long(hash_res) == 0 and len(msgs) == k, \"not valid solutions\"\n",
    "    print(f\"[+] find {len(final_orignal_result)} solutions for LGBP{n, len(msgs)}\")\n",
    "\n",
    "linearization_attack_with_fixed_k(n = 288, k = 150, sample_num = 288*5)"
   ]
  },
  {
   "cell_type": "code",
   "execution_count": null,
   "id": "c59cecb9-16b5-4164-9363-a9778ae262a4",
   "metadata": {},
   "outputs": [],
   "source": []
  }
 ],
 "metadata": {
  "kernelspec": {
   "display_name": "SageMath 10.3",
   "language": "sage",
   "name": "sagemath"
  },
  "language_info": {
   "codemirror_mode": {
    "name": "ipython",
    "version": 3
   },
   "file_extension": ".py",
   "mimetype": "text/x-python",
   "name": "python",
   "nbconvert_exporter": "python",
   "pygments_lexer": "ipython3",
   "version": "3.11.9"
  }
 },
 "nbformat": 4,
 "nbformat_minor": 5
}
